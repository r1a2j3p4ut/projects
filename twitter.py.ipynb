{
 "cells": [
  {
   "cell_type": "code",
   "execution_count": 25,
   "metadata": {},
   "outputs": [
    {
     "name": "stdout",
     "output_type": "stream",
     "text": [
      "Requirement already satisfied: tweepy in c:\\users\\user\\anaconda3\\lib\\site-packages (3.10.0)\n",
      "Requirement already satisfied: six>=1.10.0 in c:\\users\\user\\anaconda3\\lib\\site-packages (from tweepy) (1.12.0)\n",
      "Requirement already satisfied: requests-oauthlib>=0.7.0 in c:\\users\\user\\anaconda3\\lib\\site-packages (from tweepy) (1.3.0)\n",
      "Requirement already satisfied: requests[socks]>=2.11.1 in c:\\users\\user\\anaconda3\\lib\\site-packages (from tweepy) (2.22.0)\n",
      "Requirement already satisfied: oauthlib>=3.0.0 in c:\\users\\user\\anaconda3\\lib\\site-packages (from requests-oauthlib>=0.7.0->tweepy) (3.1.0)\n",
      "Requirement already satisfied: certifi>=2017.4.17 in c:\\users\\user\\anaconda3\\lib\\site-packages (from requests[socks]>=2.11.1->tweepy) (2019.9.11)\n",
      "Requirement already satisfied: idna<2.9,>=2.5 in c:\\users\\user\\anaconda3\\lib\\site-packages (from requests[socks]>=2.11.1->tweepy) (2.8)\n",
      "Requirement already satisfied: urllib3!=1.25.0,!=1.25.1,<1.26,>=1.21.1 in c:\\users\\user\\anaconda3\\lib\\site-packages (from requests[socks]>=2.11.1->tweepy) (1.24.2)\n",
      "Requirement already satisfied: chardet<3.1.0,>=3.0.2 in c:\\users\\user\\anaconda3\\lib\\site-packages (from requests[socks]>=2.11.1->tweepy) (3.0.4)\n",
      "Requirement already satisfied: PySocks!=1.5.7,>=1.5.6; extra == \"socks\" in c:\\users\\user\\anaconda3\\lib\\site-packages (from requests[socks]>=2.11.1->tweepy) (1.7.1)\n",
      "Note: you may need to restart the kernel to use updated packages.\n"
     ]
    }
   ],
   "source": [
    "pip install tweepy\n"
   ]
  },
  {
   "cell_type": "code",
   "execution_count": 48,
   "metadata": {},
   "outputs": [
    {
     "name": "stdout",
     "output_type": "stream",
     "text": [
      "Collecting textblob\n",
      "  Downloading https://files.pythonhosted.org/packages/60/f0/1d9bfcc8ee6b83472ec571406bd0dd51c0e6330ff1a51b2d29861d389e85/textblob-0.15.3-py2.py3-none-any.whl (636kB)\n",
      "Requirement already satisfied: nltk>=3.1 in c:\\users\\user\\anaconda3\\lib\\site-packages (from textblob) (3.4.5)\n",
      "Requirement already satisfied: six in c:\\users\\user\\anaconda3\\lib\\site-packages (from nltk>=3.1->textblob) (1.12.0)\n",
      "Installing collected packages: textblob\n",
      "Successfully installed textblob-0.15.3\n",
      "Note: you may need to restart the kernel to use updated packages.\n"
     ]
    },
    {
     "name": "stderr",
     "output_type": "stream",
     "text": [
      "  WARNING: Retrying (Retry(total=4, connect=None, read=None, redirect=None, status=None)) after connection broken by 'NewConnectionError('<pip._vendor.urllib3.connection.VerifiedHTTPSConnection object at 0x00000211B8BF2848>: Failed to establish a new connection: [Errno 11001] getaddrinfo failed')': /simple/textblob/\n"
     ]
    }
   ],
   "source": [
    "pip install textblob"
   ]
  },
  {
   "cell_type": "code",
   "execution_count": 49,
   "metadata": {},
   "outputs": [],
   "source": [
    "from textblob import TextBlob\n",
    "import re"
   ]
  },
  {
   "cell_type": "code",
   "execution_count": 1,
   "metadata": {},
   "outputs": [],
   "source": [
    "from tweepy.streaming import StreamListener\n",
    "from tweepy import OAuthHandler\n",
    "from tweepy import Stream\n",
    "from tweepy import Cursor\n",
    "from tweepy import API"
   ]
  },
  {
   "cell_type": "code",
   "execution_count": 36,
   "metadata": {},
   "outputs": [],
   "source": [
    "import  numpy as np\n",
    "import pandas as pd\n",
    "import matplotlib.pyplot as plt"
   ]
  },
  {
   "cell_type": "code",
   "execution_count": 37,
   "metadata": {},
   "outputs": [],
   "source": [
    "CONSUMER_KEY=  'IeWOmiS4IVadArPPAVHLDFJbF'\n",
    "API_SECRET='w2Nvll3a23jBbOPLmbTIYn5txkcRrqYv1QeD73JCkEOAHmye1h'\n",
    "ACCESS_TOKEN= '1336281671251816449-cEOGUINpPsLrBWnm86Q7PyAAQDKyU5'\n",
    "CONSUMER_SECRET_KEY= 'e37aNcAU9ze9zWFCFcrRT8JgZ4Y13GOfSTeTpbWYIaB9U'"
   ]
  },
  {
   "cell_type": "code",
   "execution_count": 38,
   "metadata": {},
   "outputs": [],
   "source": [
    "class TwitterClient():\n",
    "    def __init__(self, twitter_user=None):\n",
    "        self.auth = TwitterAuthenticator().authenticate_twitter_app()\n",
    "        self.twitter_client = API(self.auth)\n",
    "\n",
    "        self.twitter_user = twitter_user\n",
    "    def get_twitter_client_api(self):\n",
    "        return self.twitter_client\n",
    "\n",
    "    def get_user_timeline_tweets(self, num_tweets):\n",
    "        tweets = []\n",
    "        for tweet in Cursor(self.twitter_client.user_timeline, id=self.twitter_user).items(num_tweets):\n",
    "            tweets.append(tweet)\n",
    "        return tweets\n",
    "    def get_friend_list(self,num_friends):\n",
    "        friend_list= []\n",
    "        for friend in Cursor(self.twitter_clint.friends,id=self.twitter_user).items(num_friends):\n",
    "            friend_list.append(friend)\n",
    "        return(friend_list)\n",
    "    def get_home_timeline_tweets(self,num_tweets):\n",
    "        home_timeline_tweets=[]\n",
    "        for tweet in Cursor(self.twitter_clint.home_timeline,id=self.twitter_user).items(num_tweets):\n",
    "            home_timeline_tweets.append(tweet)\n",
    "        return home_timeline_tweets\n",
    "        \n",
    "        \n",
    "        \n",
    "        \n",
    "class TwitterAuthenticator():\n",
    "    def authenticate_twitter_app(self):\n",
    "        auth=OAuthHandler(CONSUMER_KEY,API_SECRET)\n",
    "        auth.set_access_token(ACCESS_TOKEN,CONSUMER_SECRET_KEY)\n",
    "        return auth\n",
    "         \n",
    "        \n",
    "class TwitterStreamer():\n",
    "    def __init__(self):\n",
    "        self.twitter_authenticator=TwitterAuthenticator()\n",
    "    def stream_tweets(self, fetched_tweets_filename, hash_tag_list):\n",
    "        listener=TwitterListener()\n",
    "        auth=self.twitter_authenticator.auithenticate_twitter_app()\n",
    "        stream=Stream(auth,listener)\n",
    "        stream.filter(track=hash_tag_list)\n",
    "\n",
    "    \n",
    "class TwitterListener(StreamListener):\n",
    "    \"\"\"\n",
    "    This is a basic listener that just prints received tweets to stdout.\n",
    "    \"\"\"\n",
    "    def __init__(self, fetched_tweets_filename):\n",
    "        self.fetched_tweets_filename = fetched_tweets_filename\n",
    "\n",
    "    def on_data(self, data):\n",
    "        try:\n",
    "            print(data)\n",
    "            with open(self.fetched_tweets_filename, 'a') as tf:\n",
    "                tf.write(data)\n",
    "            return True\n",
    "        except BaseException as e:\n",
    "            print(\"Error on_data %s\" % str(e))\n",
    "        return True\n",
    "          \n",
    "    def on_error(self, status):\n",
    "        if status == 420:\n",
    "            # Returning False on_data method in case rate limit occurs.\n",
    "            return False\n",
    "        print(status)\n",
    "\n",
    " \n"
   ]
  },
  {
   "cell_type": "code",
   "execution_count": 67,
   "metadata": {},
   "outputs": [],
   "source": [
    "class TweetAnalyzer():\n",
    "    def clean_tweet(self, tweet):\n",
    "        return ' '.join(re.sub(\"(@[A-Za-z0-9]+)|([^0-9A-Za-z \\t])|(\\w+:\\/\\/\\S+)\", \" \", tweet).split())\n",
    "\n",
    "    def analyze_sentiment(self,tweet):\n",
    "        analysis=TextBlob(self.clean_tweet(tweet))\n",
    "        if analysis.sentiment.polarity>0:\n",
    "            return 1\n",
    "        elif analysis.sentiment.polarity==0:\n",
    "            return 0\n",
    "        else:\n",
    "            return -1\n",
    "        \n",
    "    def tweets_to_data_frame(self,tweets):\n",
    "        df=pd.DataFrame(data=[tweet.text for tweet in tweets],columns=['tweets'])\n",
    "        df['id']=np.array([tweet.id for tweet in tweets])\n",
    "        df['len']=np.array([len(tweet.text) for tweet in tweets])\n",
    "        df['date']=np.array([tweet.created_at for tweet in tweets])\n",
    "        df['source']=np.array([tweet.source for tweet in tweets])\n",
    "        df['likes']=np.array([tweet.favorite_count for tweet in tweets])\n",
    "        df['retweets']=np.array([tweet.retweet_count for tweet in tweets])\n",
    "        return df"
   ]
  },
  {
   "cell_type": "code",
   "execution_count": 69,
   "metadata": {},
   "outputs": [
    {
     "name": "stdout",
     "output_type": "stream",
     "text": [
      "135.7\n",
      "6676\n",
      "                                               tweets                   id  \\\n",
      "0   I strongly condemn the attack on Mamta Didi. T...  1369664513184722947   \n",
      "1   प्रभु श्री राम का मानना था कि बिना किसी भेदभाव...  1369632451329368069   \n",
      "2   पिछले 70 साल में दोनों राजनीतिक पार्टियों ने म...  1369632402033713153   \n",
      "3   उपराज्यपाल महोदय के अभिभाषण के लिए धन्यवाद प्र...  1369559774803595265   \n",
      "4   स्त्री शिक्षणासाठी आपले जीवन समर्पित करणाऱ्या ...  1369504579054886912   \n",
      "5   दिल्ली सरकार ने शहीद सिपाहियों के परिवार के सम...  1369239240580730880   \n",
      "6   दिल्ली सरकार ने आज़ादी के 75वें वर्ष में शहीद ...  1369239195320000520   \n",
      "7   आज़ादी की 75वीं वर्षगांठ के अवसर पर आगामी साल ...  1369239160872079360   \n",
      "8   दिल्ली सरकार का लक्ष्य है कि वर्ष 2047 तक दिल्...  1369238982987497475   \n",
      "9   हमें शिक्षा को जन आंदोलन बनाने की जरूरत है। ' ...  1369238483840233473   \n",
      "10  पूरी दिल्ली में दिल्ली सरकार 500 स्थानों पर शा...  1369238392009936896   \n",
      "11  दिल्ली की प्रगति के लिए इस साल का ये बजट उन्नत...  1369204230679011330   \n",
      "12  दिल्ली के हर नागरिक को एक हेल्थ कार्ड जारी किय...  1369200221276811264   \n",
      "13  दिल्ली में महिलाओं के लिए विशेष 'महिला मोहल्ला...  1369200189240643585   \n",
      "14  दिल्ली के लोगों को कोविड की वैक्सीन सरकारी अस्...  1369200096139751427   \n",
      "15  दिल्ली सरकार का लक्ष्य है कि दिल्ली में ओलंपिक...  1369200051168423939   \n",
      "16  दिल्ली सरकार इस साल देश की पहली टीचर्स यूनिवर्...  1369199991110139907   \n",
      "17  दिल्ली में Virtual Delhi Model School शुरू किय...  1369199949502627840   \n",
      "18  दिल्ली विधानसभा में उपमुख्यमंत्री एवं वित्त मं...  1369160012359036929   \n",
      "19  कोलकाता में आग की घटना बेहद दुखद है, मृतकों के...  1369154196277235714   \n",
      "\n",
      "    len                date                source  likes  retweets  sentiment  \n",
      "0   136 2021-03-10 15:00:41    Twitter for iPhone  17423      2747          1  \n",
      "1   140 2021-03-10 12:53:17  Twitter Media Studio   4850      1083          0  \n",
      "2   140 2021-03-10 12:53:05  Twitter Media Studio   1951       563          0  \n",
      "3   117 2021-03-10 08:04:30  Twitter Media Studio   2965       769          1  \n",
      "4   133 2021-03-10 04:25:10       Twitter Web App   7936      1062          0  \n",
      "5   140 2021-03-09 10:50:48       Twitter Web App   8532      1324          0  \n",
      "6   138 2021-03-09 10:50:38       Twitter Web App   3946       762          0  \n",
      "7   139 2021-03-09 10:50:29       Twitter Web App   1304       420          0  \n",
      "8   138 2021-03-09 10:49:47       Twitter Web App   3848       868          0  \n",
      "9   140 2021-03-09 10:47:48       Twitter Web App   1959       576          0  \n",
      "10  139 2021-03-09 10:47:26       Twitter Web App   2094       552          0  \n",
      "11  126 2021-03-09 08:31:41  Twitter Media Studio   1596       519          1  \n",
      "12  128 2021-03-09 08:15:45       Twitter Web App   9012      1463          0  \n",
      "13  139 2021-03-09 08:15:38       Twitter Web App   4199       941          0  \n",
      "14  140 2021-03-09 08:15:16       Twitter Web App   6465      1199          0  \n",
      "15  140 2021-03-09 08:15:05       Twitter Web App   4005       867          0  \n",
      "16  123 2021-03-09 08:14:51       Twitter Web App  50152      6676          0  \n",
      "17  139 2021-03-09 08:14:41       Twitter Web App   2908       750          0  \n",
      "18  140 2021-03-09 05:35:59  Twitter Media Studio   2691       820          0  \n",
      "19  139 2021-03-09 05:12:52       Twitter Web App   2827       492          0  \n"
     ]
    }
   ],
   "source": [
    "if __name__ =='__main__':\n",
    "    twitter_client=TwitterClient()\n",
    "    tweet_analyzer=TweetAnalyzer()\n",
    "    api=twitter_client.get_twitter_client_api()\n",
    "    \n",
    "    tweets=api.user_timeline(screen_name=\"ArvindKejriwal\",count=20)\n",
    "    df=tweet_analyzer.tweets_to_data_frame(tweets)\n",
    "    #Get average lengeth pver all tweets:\n",
    "    print(np.mean(df['len']))\n",
    "    #print(df.head())\n",
    "    print(np.max(df['retweets']))\n",
    "    #time_likes=pd.Series(data=df['likes'].values,index=df['date'])\n",
    "    #time_likes.plot(figsize=(16,4),color='r')\n",
    "    #plt.show()\n",
    "    time_retweets=pd.Series(data=df['retweets'].values,index=df['date'])\n",
    "    #time_retweets.plot(figsize=(16,4),color='r')\n",
    "    #plt.show()\n",
    "        \n",
    "    \n",
    "    df['sentiment']=np.array([tweet_analyzer.analyze_sentiment(tweet) for tweet in df['tweets']])\n",
    "    \n",
    "    print(df.head(20))\n",
    "            \n",
    "    "
   ]
  },
  {
   "cell_type": "code",
   "execution_count": null,
   "metadata": {},
   "outputs": [],
   "source": []
  }
 ],
 "metadata": {
  "kernelspec": {
   "display_name": "Python 3",
   "language": "python",
   "name": "python3"
  },
  "language_info": {
   "codemirror_mode": {
    "name": "ipython",
    "version": 3
   },
   "file_extension": ".py",
   "mimetype": "text/x-python",
   "name": "python",
   "nbconvert_exporter": "python",
   "pygments_lexer": "ipython3",
   "version": "3.7.4"
  }
 },
 "nbformat": 4,
 "nbformat_minor": 2
}
